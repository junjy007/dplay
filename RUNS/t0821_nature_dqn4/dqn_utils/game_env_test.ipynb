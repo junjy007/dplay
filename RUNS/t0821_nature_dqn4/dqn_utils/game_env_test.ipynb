{
 "cells": [
  {
   "cell_type": "code",
   "execution_count": null,
   "metadata": {
    "collapsed": true
   },
   "outputs": [],
   "source": [
    "%pylab inline"
   ]
  },
  {
   "cell_type": "code",
   "execution_count": null,
   "metadata": {
    "collapsed": true
   },
   "outputs": [],
   "source": [
    "from env_wrapper_NES import *\n",
    "import numpy as np\n",
    "from torch.autograd import Variable\n",
    "import torch"
   ]
  },
  {
   "cell_type": "markdown",
   "metadata": {},
   "source": [
    "## Normal test"
   ]
  },
  {
   "cell_type": "code",
   "execution_count": null,
   "metadata": {
    "collapsed": true
   },
   "outputs": [],
   "source": [
    "game = EnvContra()\n",
    "game = MaxPool2ContraWrapper(game)\n",
    "game = RepeatActionContraWrapper(game, 2)"
   ]
  },
  {
   "cell_type": "code",
   "execution_count": null,
   "metadata": {
    "collapsed": true,
    "scrolled": true
   },
   "outputs": [],
   "source": [
    "s = game.reset()\n",
    "rng =np.random.RandomState(0)\n",
    "for i in range(10):\n",
    "    a = rng.choice([12, 4, 15])\n",
    "    s, r, _, _ = game.step(a)\n",
    "    imshow(s[:,:,::-1])\n",
    "    show()\n",
    "    print a,r"
   ]
  },
  {
   "cell_type": "markdown",
   "metadata": {
    "collapsed": true
   },
   "source": [
    "## Load state test"
   ]
  },
  {
   "cell_type": "code",
   "execution_count": null,
   "metadata": {
    "collapsed": true
   },
   "outputs": [],
   "source": [
    "state_fname0 = \"/home/junli/projects/dplay/RUNS/t0821_nature_dqn4/dqn_utils/nes_env/res/Contra_stage0_0.nss\"\n",
    "state_fname1 = \"/home/junli/projects/dplay/RUNS/t0821_nature_dqn4/dqn_utils/nes_env/res/Contra_stage0_1.nss\""
   ]
  },
  {
   "cell_type": "code",
   "execution_count": null,
   "metadata": {
    "collapsed": true
   },
   "outputs": [],
   "source": [
    "game = EnvContra(state_fname1)\n",
    "game = MaxPool2ContraWrapper(game)\n",
    "game = RepeatActionContraWrapper(game, 2)\n",
    "game.reset()"
   ]
  },
  {
   "cell_type": "code",
   "execution_count": null,
   "metadata": {
    "collapsed": true
   },
   "outputs": [],
   "source": [
    "for i in range(10):\n",
    "    for j in range(10):\n",
    "        s, r, _, _ = game.step(4)\n",
    "    imshow(s[:,:,::-1])\n",
    "    show()\n",
    "    "
   ]
  },
  {
   "cell_type": "code",
   "execution_count": null,
   "metadata": {
    "collapsed": true
   },
   "outputs": [],
   "source": [
    "game.game.cheatSetLives99()"
   ]
  },
  {
   "cell_type": "code",
   "execution_count": null,
   "metadata": {
    "collapsed": true
   },
   "outputs": [],
   "source": [
    "game.game.act(6)"
   ]
  },
  {
   "cell_type": "markdown",
   "metadata": {
    "collapsed": true
   },
   "source": [
    "# Making reward schemes"
   ]
  },
  {
   "cell_type": "code",
   "execution_count": 6,
   "metadata": {
    "collapsed": true
   },
   "outputs": [],
   "source": [
    "import json\n",
    "import os\n",
    "contra_reward_scheme_gameplay_0 = {\n",
    "    'score_gain': 0.05,\n",
    "    'killed': -1.0,\n",
    "    'kill_boss': 0.5, # no use\n",
    "    'progress': 0.03,\n",
    "    'time':-0.01 # every operation\n",
    "}\n",
    "\n",
    "contra_reward_scheme_boss_0 = {\n",
    "    'score_gain': 0.02,\n",
    "    'killed': -0.1,\n",
    "    'kill_boss': 1.0, \n",
    "    'progress': 0.0,\n",
    "    'time':-0.0001 # every operation\n",
    "}\n",
    "\n",
    "save_list = [\n",
    "    ('Contra_reward_scheme_gameplay0.json', contra_reward_scheme_gameplay_0),\n",
    "    ('Contra_reward_scheme_boss0.json', contra_reward_scheme_boss_0),\n",
    "]"
   ]
  },
  {
   "cell_type": "code",
   "execution_count": 7,
   "metadata": {
    "collapsed": true
   },
   "outputs": [],
   "source": [
    "for fn, sch in save_list:\n",
    "    with open(os.path.join('nes_env', 'res', fn), 'w') as f:\n",
    "        json.dump(sch, f, indent=2)\n"
   ]
  },
  {
   "cell_type": "markdown",
   "metadata": {},
   "source": [
    "# Test Set and Get Byte"
   ]
  },
  {
   "cell_type": "code",
   "execution_count": 1,
   "metadata": {
    "collapsed": true
   },
   "outputs": [],
   "source": [
    "from env_wrapper_NES import *\n",
    "import numpy as np\n",
    "NSS_FILE1 = \\\n",
    "    '/home/junli/projects/dplay/RUNS/t0821_nature_dqn4/dqn_utils/nes_env/res/Contra_stage0_1.nss'"
   ]
  },
  {
   "cell_type": "code",
   "execution_count": 2,
   "metadata": {},
   "outputs": [],
   "source": [
    "game = EnvContra()\n",
    "game = MaxPool2ContraWrapper(game)\n",
    "game = RepeatActionContraWrapper(game, 2)\n",
    "_ = game.reset()"
   ]
  },
  {
   "cell_type": "code",
   "execution_count": 3,
   "metadata": {},
   "outputs": [],
   "source": [
    "_ = game.step(4)"
   ]
  },
  {
   "cell_type": "code",
   "execution_count": 4,
   "metadata": {},
   "outputs": [
    {
     "name": "stdout",
     "output_type": "stream",
     "text": [
      "Using matplotlib backend: TkAgg\n",
      "Populating the interactive namespace from numpy and matplotlib\n"
     ]
    }
   ],
   "source": [
    "%pylab"
   ]
  },
  {
   "cell_type": "code",
   "execution_count": null,
   "metadata": {
    "collapsed": true
   },
   "outputs": [],
   "source": []
  }
 ],
 "metadata": {
  "kernelspec": {
   "display_name": "Python 2",
   "language": "python",
   "name": "python2"
  },
  "language_info": {
   "codemirror_mode": {
    "name": "ipython",
    "version": 2
   },
   "file_extension": ".py",
   "mimetype": "text/x-python",
   "name": "python",
   "nbconvert_exporter": "python",
   "pygments_lexer": "ipython2",
   "version": "2.7.13"
  }
 },
 "nbformat": 4,
 "nbformat_minor": 2
}
