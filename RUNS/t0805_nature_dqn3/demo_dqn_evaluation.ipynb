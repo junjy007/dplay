{
 "cells": [
  {
   "cell_type": "code",
   "execution_count": null,
   "metadata": {
    "collapsed": true
   },
   "outputs": [],
   "source": [
    "%run dqn.py plot"
   ]
  },
  {
   "cell_type": "code",
   "execution_count": 1,
   "metadata": {},
   "outputs": [
    {
     "name": "stderr",
     "output_type": "stream",
     "text": [
      "[2017-08-19 06:25:00,019] Making new env: Pong-v0\n"
     ]
    },
    {
     "name": "stdout",
     "output_type": "stream",
     "text": [
      "Input (32, 4, 84, 84)\n",
      "Feat torch.Size([32, 64, 7, 7])\n",
      "Model loaded from save/cp49950000.torchmodel\n",
      ", Step 49950001, Eps 0.099999\n"
     ]
    }
   ],
   "source": [
    "%run dqn.py"
   ]
  },
  {
   "cell_type": "code",
   "execution_count": null,
   "metadata": {
    "collapsed": true
   },
   "outputs": [],
   "source": [
    "# plot(status['duration_history'])"
   ]
  },
  {
   "cell_type": "code",
   "execution_count": 2,
   "metadata": {
    "collapsed": true
   },
   "outputs": [],
   "source": [
    "import matplotlib.pyplot as plt\n",
    "from matplotlib import gridspec"
   ]
  },
  {
   "cell_type": "code",
   "execution_count": 3,
   "metadata": {
    "collapsed": true
   },
   "outputs": [],
   "source": [
    "# State to image\n",
    "def state_to_image(s, decay=0.5):\n",
    "    sim = s[-1].astype(np.float)\n",
    "    coeff = decay\n",
    "    coeff_sum = 1.0\n",
    "    for i in range(s.shape[0]-1, -1, -1):\n",
    "        sim += s[i].astype(np.float) * coeff\n",
    "        coeff_sum += coeff\n",
    "        coeff *= decay\n",
    "    sim /= coeff_sum\n",
    "    sim = sim.astype(np.uint8)\n",
    "    return sim"
   ]
  },
  {
   "cell_type": "code",
   "execution_count": 4,
   "metadata": {
    "collapsed": true
   },
   "outputs": [],
   "source": [
    "-"
   ]
  },
  {
   "cell_type": "code",
   "execution_count": 5,
   "metadata": {
    "collapsed": true
   },
   "outputs": [],
   "source": [
    "pol = Policy(model, ACTION_NUM, 0, 0, 0)"
   ]
  },
  {
   "cell_type": "code",
   "execution_count": 15,
   "metadata": {},
   "outputs": [
    {
     "name": "stderr",
     "output_type": "stream",
     "text": [
      "[2017-08-19 06:50:18,550] Making new env: Pong-v0\n"
     ]
    },
    {
     "name": "stdout",
     "output_type": "stream",
     "text": [
      "\n"
     ]
    }
   ],
   "source": [
    "env1 = Env(preproc, 4, FRAMES_PER_STATE)"
   ]
  },
  {
   "cell_type": "code",
   "execution_count": 16,
   "metadata": {},
   "outputs": [
    {
     "name": "stdout",
     "output_type": "stream",
     "text": [
      "T=89 Step: 90, Accumulated Rewards 1.0             \n",
      "T=142                              Step: 143, Accumulated Rewards 2.0\n",
      "T=174 Step: 175, Accumulated Rewards 3.0\n",
      "T=195 Step: 196, Accumulated Rewards 2.0\n",
      "T=206 Step: 207, Accumulated Rewards 1.0\n",
      "T=238 Step: 239, Accumulated Rewards 0.0\n",
      "T=270 Step: 271, Accumulated Rewards -1.0\n",
      "T=344 Step: 345, Accumulated Rewards -2.0       \n",
      "T=375 Step: 376, Accumulated Rewards -3.0\n",
      "T=418 Step: 419, Accumulated Rewards -2.0\n",
      "T=459 Step: 460, Accumulated Rewards -3.0\n",
      "T=501                        Step: 502, Accumulated Rewards -2.0\n",
      "T=594 Step: 595, Accumulated Rewards -1.0                               \n",
      "T=655                                          Step: 656, Accumulated Rewards -2.0\n",
      "T=758                                                             Step: 759, Accumulated Rewards -1.0\n",
      "T=820 Step: 821, Accumulated Rewards -2.0\n",
      "T=852                  Step: 853, Accumulated Rewards -3.0\n",
      "T=1006 Step: 1007, Accumulated Rewards -4.0                                                         \n",
      "T=1028 Step: 1029, Accumulated Rewards -3.0\n",
      "T=1079 Step: 1080, Accumulated Rewards -2.0\n",
      "T=1162 Step: 1163, Accumulated Rewards -3.0           \n",
      "T=1222 Step: 1223, Accumulated Rewards -2.0\n",
      "T=1283 Step: 1284, Accumulated Rewards -3.0\n",
      "T=1325 Step: 1326, Accumulated Rewards -2.0\n",
      "T=1409 Step: 1410, Accumulated Rewards -3.0        \n",
      "T=1454 Step: 1455, Accumulated Rewards -2.0\n",
      "T=1547 Step: 1548, Accumulated Rewards -1.0              \n",
      "T=1653 Step: 1654, Accumulated Rewards -2.0                             \n",
      "T=1769 Step: 1770, Accumulated Rewards -3.0                              \n",
      "T=1789 Step: 1790, Accumulated Rewards -2.0\n",
      "T=1841 Step: 1842, Accumulated Rewards -1.0\n",
      "T=1954 Step: 1955, Accumulated Rewards 0.0                            \n",
      "T=2004 Step: 2005, Accumulated Rewards 1.0\n",
      "T=2048 Step: 2049, Accumulated Rewards 0.0\n",
      "T=2082 Step: 2083, Accumulated Rewards -1.0\n",
      "T=2123 Step: 2124, Accumulated Rewards 0.0\n",
      "T=2186 Step: 2187, Accumulated Rewards -1.0 \n",
      "T=2260 Step: 2261, Accumulated Rewards -2.0       \n",
      "T=2293 Step: 2294, Accumulated Rewards -3.0\n"
     ]
    }
   ],
   "source": [
    "env_ = env1 # try to evaluate every step\n",
    "s  = env_.reset()\n",
    "stop = False\n",
    "t = 0\n",
    "MAX_DEMO_STEPS = 10000\n",
    "accumulated_r = 0\n",
    "while not stop:\n",
    "    v = pol.get_action_val(s)\n",
    "    act_id = np.argmax(v)\n",
    "    draw_state_evaluation(s, v, act_id, t, 'out/f')\n",
    "    act_button = ACTION_BUTTON_MAP[act_id]\n",
    "    s, r, term = env_.step(act_button)\n",
    "    accumulated_r += r\n",
    "    t += 1 \n",
    "    # print t, v, act_id\n",
    "    if r != 0:\n",
    "        print \"Step: {}, Accumulated Rewards {}\".format(t, accumulated_r)\n",
    "    if t >= MAX_DEMO_STEPS or term:\n",
    "        stop = True\n"
   ]
  },
  {
   "cell_type": "code",
   "execution_count": 12,
   "metadata": {},
   "outputs": [
    {
     "name": "stderr",
     "output_type": "stream",
     "text": [
      "ffmpeg version 2.8.11-0ubuntu0.16.04.1 Copyright (c) 2000-2017 the FFmpeg developers\n",
      "  built with gcc 5.4.0 (Ubuntu 5.4.0-6ubuntu1~16.04.4) 20160609\n",
      "  configuration: --prefix=/usr --extra-version=0ubuntu0.16.04.1 --build-suffix=-ffmpeg --toolchain=hardened --libdir=/usr/lib/x86_64-linux-gnu --incdir=/usr/include/x86_64-linux-gnu --cc=cc --cxx=g++ --enable-gpl --enable-shared --disable-stripping --disable-decoder=libopenjpeg --disable-decoder=libschroedinger --enable-avresample --enable-avisynth --enable-gnutls --enable-ladspa --enable-libass --enable-libbluray --enable-libbs2b --enable-libcaca --enable-libcdio --enable-libflite --enable-libfontconfig --enable-libfreetype --enable-libfribidi --enable-libgme --enable-libgsm --enable-libmodplug --enable-libmp3lame --enable-libopenjpeg --enable-libopus --enable-libpulse --enable-librtmp --enable-libschroedinger --enable-libshine --enable-libsnappy --enable-libsoxr --enable-libspeex --enable-libssh --enable-libtheora --enable-libtwolame --enable-libvorbis --enable-libvpx --enable-libwavpack --enable-libwebp --enable-libx265 --enable-libxvid --enable-libzvbi --enable-openal --enable-opengl --enable-x11grab --enable-libdc1394 --enable-libiec61883 --enable-libzmq --enable-frei0r --enable-libx264 --enable-libopencv\n",
      "  libavutil      54. 31.100 / 54. 31.100\n",
      "  libavcodec     56. 60.100 / 56. 60.100\n",
      "  libavformat    56. 40.101 / 56. 40.101\n",
      "  libavdevice    56.  4.100 / 56.  4.100\n",
      "  libavfilter     5. 40.101 /  5. 40.101\n",
      "  libavresample   2.  1.  0 /  2.  1.  0\n",
      "  libswscale      3.  1.101 /  3.  1.101\n",
      "  libswresample   1.  2.101 /  1.  2.101\n",
      "  libpostproc    53.  3.100 / 53.  3.100\n",
      "Input #0, image2, from 'f_%05d.png':\n",
      "  Duration: 00:03:20.30, start: 0.000000, bitrate: N/A\n",
      "    Stream #0:0: Video: png, rgba(pc), 576x720 [SAR 2834:2834 DAR 4:5], 10 fps, 10 tbr, 10 tbn, 10 tbc\n",
      "[libx264 @ 0x1fa6760] using SAR=1/1\n",
      "[libx264 @ 0x1fa6760] using cpu capabilities: MMX2 SSE2Fast SSSE3 SSE4.2 AVX FMA3 AVX2 LZCNT BMI2\n",
      "[libx264 @ 0x1fa6760] profile High, level 2.2\n",
      "[libx264 @ 0x1fa6760] 264 - core 148 r2643 5c65704 - H.264/MPEG-4 AVC codec - Copyleft 2003-2015 - http://www.videolan.org/x264.html - options: cabac=1 ref=3 deblock=1:0:0 analyse=0x3:0x113 me=hex subme=7 psy=1 psy_rd=1.00:0.00 mixed_ref=1 me_range=16 chroma_me=1 trellis=1 8x8dct=1 cqm=0 deadzone=21,11 fast_pskip=1 chroma_qp_offset=-2 threads=6 lookahead_threads=1 sliced_threads=0 nr=0 decimate=1 interlaced=0 bluray_compat=0 constrained_intra=0 bframes=3 b_pyramid=2 b_adapt=1 b_bias=0 direct=1 weightb=1 open_gop=0 weightp=2 keyint=250 keyint_min=10 scenecut=40 intra_refresh=0 rc_lookahead=40 rc=crf mbtree=1 crf=23.0 qcomp=0.60 qpmin=0 qpmax=69 qpstep=4 ip_ratio=1.40 aq=1:1.00\n",
      "Output #0, mp4, to 'out.mp4':\n",
      "  Metadata:\n",
      "    encoder         : Lavf56.40.101\n",
      "    Stream #0:0: Video: h264 (libx264) ([33][0][0][0] / 0x0021), yuv420p, 576x720 [SAR 1:1 DAR 4:5], q=-1--1, 10 fps, 10240 tbn, 10 tbc\n",
      "    Metadata:\n",
      "      encoder         : Lavc56.60.100 libx264\n",
      "Stream mapping:\n",
      "  Stream #0:0 -> #0:0 (png (native) -> h264 (libx264))\n",
      "Press [q] to stop, [?] for help\n",
      "frame=  195 fps=0.0 q=25.0 size=      60kB time=00:00:14.30 bitrate=  34.6kbits/s    \r",
      "frame=  402 fps=400 q=25.0 size=     140kB time=00:00:35.00 bitrate=  32.7kbits/s    \r",
      "frame=  594 fps=395 q=25.0 size=     237kB time=00:00:54.20 bitrate=  35.8kbits/s    \r",
      "frame=  794 fps=396 q=25.0 size=     345kB time=00:01:14.20 bitrate=  38.1kbits/s    \r",
      "frame=  989 fps=395 q=25.0 size=     451kB time=00:01:33.70 bitrate=  39.5kbits/s    \r",
      "frame= 1192 fps=396 q=25.0 size=     561kB time=00:01:54.00 bitrate=  40.3kbits/s    \r",
      "frame= 1395 fps=398 q=25.0 size=     667kB time=00:02:14.30 bitrate=  40.7kbits/s    \r",
      "frame= 1591 fps=397 q=25.0 size=     771kB time=00:02:33.90 bitrate=  41.1kbits/s    \r",
      "frame= 1791 fps=397 q=25.0 size=     872kB time=00:02:53.90 bitrate=  41.1kbits/s    \r",
      "frame= 1992 fps=397 q=25.0 size=     977kB time=00:03:14.00 bitrate=  41.3kbits/s    \r",
      "frame= 2003 fps=393 q=-1.0 Lsize=    1032kB time=00:03:20.10 bitrate=  42.2kbits/s    \n",
      "video:1010kB audio:0kB subtitle:0kB other streams:0kB global headers:0kB muxing overhead: 2.176802%\n",
      "[libx264 @ 0x1fa6760] frame I:9     Avg QP:13.69  size:  4093\n",
      "[libx264 @ 0x1fa6760] frame P:842   Avg QP:21.40  size:   652\n",
      "[libx264 @ 0x1fa6760] frame B:1152  Avg QP:24.49  size:   388\n",
      "[libx264 @ 0x1fa6760] consecutive B-frames: 23.3%  0.0%  0.4% 76.3%\n",
      "[libx264 @ 0x1fa6760] mb I  I16..4: 53.4% 38.9%  7.7%\n",
      "[libx264 @ 0x1fa6760] mb P  I16..4:  2.7%  1.1%  0.9%  P16..4:  1.4%  0.5%  0.1%  0.0%  0.0%    skip:93.2%\n",
      "[libx264 @ 0x1fa6760] mb B  I16..4:  1.3%  0.2%  0.3%  B16..8:  3.7%  0.5%  0.0%  direct: 0.1%  skip:93.7%  L0:50.1% L1:48.4% BI: 1.6%\n",
      "[libx264 @ 0x1fa6760] 8x8 transform intra:22.1% inter:36.9%\n",
      "[libx264 @ 0x1fa6760] coded y,uvDC,uvAC intra: 10.0% 7.6% 5.8% inter: 0.4% 0.2% 0.2%\n",
      "[libx264 @ 0x1fa6760] i16 v,h,dc,p: 21% 78%  1%  0%\n",
      "[libx264 @ 0x1fa6760] i8 v,h,dc,ddl,ddr,vr,hd,vl,hu: 32%  7% 60%  0%  0%  0%  0%  0%  0%\n",
      "[libx264 @ 0x1fa6760] i4 v,h,dc,ddl,ddr,vr,hd,vl,hu: 42% 29% 25%  0%  1%  1%  1%  1%  1%\n",
      "[libx264 @ 0x1fa6760] i8c dc,h,v,p: 58% 41%  1%  0%\n",
      "[libx264 @ 0x1fa6760] Weighted P-Frames: Y:0.0% UV:0.0%\n",
      "[libx264 @ 0x1fa6760] ref P L0: 51.7%  2.6% 30.2% 15.5%\n",
      "[libx264 @ 0x1fa6760] ref B L0: 75.5% 17.6%  6.9%\n",
      "[libx264 @ 0x1fa6760] ref B L1: 95.0%  5.0%\n",
      "[libx264 @ 0x1fa6760] kb/s:41.26\n"
     ]
    },
    {
     "name": "stdout",
     "output_type": "stream",
     "text": [
      "\n"
     ]
    }
   ],
   "source": [
    "%%bash\n",
    "cd out\n",
    "ffmpeg -y -framerate 10 -i f_%05d.png -c:v libx264 -pix_fmt yuv420p out.mp4"
   ]
  },
  {
   "cell_type": "code",
   "execution_count": null,
   "metadata": {
    "collapsed": true
   },
   "outputs": [],
   "source": [
    "tmp_p = list(model.parameters())"
   ]
  },
  {
   "cell_type": "code",
   "execution_count": null,
   "metadata": {
    "collapsed": true
   },
   "outputs": [],
   "source": [
    "print model.modules"
   ]
  },
  {
   "cell_type": "code",
   "execution_count": null,
   "metadata": {
    "collapsed": true
   },
   "outputs": [],
   "source": []
  },
  {
   "cell_type": "code",
   "execution_count": null,
   "metadata": {
    "collapsed": true
   },
   "outputs": [],
   "source": [
    "def draw_conv_parameters(cparam, fname=None):\n",
    "    plist = list(cparam)\n",
    "    weights = plist[0].data.cpu().numpy()\n",
    "    wlim = max(np.abs(weights.max()), np.abs(weights.min()))\n",
    "    \n",
    "    nout = weights.shape[0]\n",
    "    nin = weights.shape[1]\n",
    "    print \"in\", nin, \"out\", nout\n",
    "    \n",
    "    gs = gridspec.GridSpec(\n",
    "        nout, nin, \n",
    "        left=0.01, right=0.99, top=0.99, bottom=0.01,\n",
    "        hspace=0.01, wspace=0.01)\n",
    "    \n",
    "    plt.figure(2, figsize=(nin/2, nout/2))\n",
    "    i = 0\n",
    "    for r in range(nout):\n",
    "        row_wextreme = np.max(np.abs(weights[r, ...]))\n",
    "        for c in range(nin):\n",
    "            ax = plt.subplot(gs[i])\n",
    "            ax.imshow(weights[r, c], cmap='gray',\n",
    "                      interpolation='nearest',\n",
    "                      vmax=wlim, vmin=-wlim)\n",
    "            ax.set_xticks([])\n",
    "            ax.set_yticks([])\n",
    "            i += 1\n",
    "        print \"row\", r, row_wextreme\n",
    "    \n",
    "    if fname is not None:\n",
    "        plt.savefig(fname)\n",
    "        \n",
    "    \n",
    "    "
   ]
  },
  {
   "cell_type": "code",
   "execution_count": null,
   "metadata": {
    "collapsed": true
   },
   "outputs": [],
   "source": []
  },
  {
   "cell_type": "code",
   "execution_count": null,
   "metadata": {
    "collapsed": true
   },
   "outputs": [],
   "source": [
    "draw_conv_parameters(model.conv2.parameters(), 'out/p_conv2.png')"
   ]
  },
  {
   "cell_type": "code",
   "execution_count": null,
   "metadata": {
    "collapsed": true
   },
   "outputs": [],
   "source": [
    "subnets = (model.conv1, model.conv2, model.conv3)\n",
    "subnetnames = ('conv1', 'conv2', 'conv3')\n",
    "for sn, fn in zip(subnets, subnetnames):\n",
    "    plt.clf()\n",
    "    print \"Drawing {} ...\".format(fn)\n",
    "    draw_conv_parameters(sn.parameters(), 'out/{}_weights.png'.format(fn))"
   ]
  },
  {
   "cell_type": "code",
   "execution_count": null,
   "metadata": {
    "collapsed": true
   },
   "outputs": [],
   "source": [
    "out_parameters = list(model.head[2].parameters())\n",
    "out_p0 = out_parameters[0].data.cpu().numpy()\n",
    "out_p1 = out_parameters[1].data.cpu().numpy()"
   ]
  },
  {
   "cell_type": "code",
   "execution_count": null,
   "metadata": {
    "collapsed": true
   },
   "outputs": [],
   "source": [
    "out_p1.shape"
   ]
  },
  {
   "cell_type": "code",
   "execution_count": null,
   "metadata": {
    "collapsed": true
   },
   "outputs": [],
   "source": [
    "for out_id in range(3):\n",
    "    plt.clf()\n",
    "    plt.imshow(out_p0[out_id].reshape((16, 32)), cmap='gray', \n",
    "               interpolation='nearest')\n",
    "    plt.savefig(\"out/tmp_output_parameter_{}.png\".format(out_id))"
   ]
  },
  {
   "cell_type": "code",
   "execution_count": null,
   "metadata": {
    "collapsed": true
   },
   "outputs": [],
   "source": []
  }
 ],
 "metadata": {
  "kernelspec": {
   "display_name": "Python 2",
   "language": "python",
   "name": "python2"
  },
  "language_info": {
   "codemirror_mode": {
    "name": "ipython",
    "version": 2
   },
   "file_extension": ".py",
   "mimetype": "text/x-python",
   "name": "python",
   "nbconvert_exporter": "python",
   "pygments_lexer": "ipython2",
   "version": "2.7.13"
  }
 },
 "nbformat": 4,
 "nbformat_minor": 2
}
